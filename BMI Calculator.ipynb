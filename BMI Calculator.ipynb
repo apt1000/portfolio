{
 "cells": [
  {
   "cell_type": "code",
   "execution_count": 1,
   "id": "e228afc0",
   "metadata": {},
   "outputs": [
    {
     "name": "stdout",
     "output_type": "stream",
     "text": [
      "Enter your weight in pounds: 150\n"
     ]
    }
   ],
   "source": [
    "weight = input('Enter your weight in pounds: ')"
   ]
  },
  {
   "cell_type": "code",
   "execution_count": 2,
   "id": "431b0dd8",
   "metadata": {},
   "outputs": [
    {
     "name": "stdout",
     "output_type": "stream",
     "text": [
      "150\n"
     ]
    }
   ],
   "source": [
    "print(weight)"
   ]
  },
  {
   "cell_type": "code",
   "execution_count": 3,
   "id": "e6dafe36",
   "metadata": {},
   "outputs": [
    {
     "name": "stdout",
     "output_type": "stream",
     "text": [
      "Enter your hight in inches: 69\n"
     ]
    }
   ],
   "source": [
    "height = input('Enter your hight in inches: ')"
   ]
  },
  {
   "cell_type": "code",
   "execution_count": 4,
   "id": "9ce3e5e7",
   "metadata": {},
   "outputs": [
    {
     "name": "stdout",
     "output_type": "stream",
     "text": [
      "150\n"
     ]
    }
   ],
   "source": [
    "print(weight)"
   ]
  },
  {
   "cell_type": "code",
   "execution_count": 5,
   "id": "ab2395fb",
   "metadata": {},
   "outputs": [
    {
     "name": "stdout",
     "output_type": "stream",
     "text": [
      "22.14870825456837\n"
     ]
    }
   ],
   "source": [
    "BMI = (int(weight) * 703) / (int(height)**2)\n",
    "print(BMI)"
   ]
  },
  {
   "cell_type": "code",
   "execution_count": 6,
   "id": "869bfb74",
   "metadata": {},
   "outputs": [
    {
     "name": "stdout",
     "output_type": "stream",
     "text": [
      "Normal Range\n"
     ]
    }
   ],
   "source": [
    "if(0 < BMI < 18.5):\n",
    "    print('Underweight')\n",
    "elif(BMI < 25):\n",
    "    print('Normal Range')\n",
    "elif(BMI < 30):\n",
    "    print('Overweight')\n",
    "elif(BMI < 35):\n",
    "    print('Obese')\n",
    "elif(BMI < 40):\n",
    "    print('Severely Obese')\n",
    "elif(BMI >= 40):\n",
    "    print('Morbidly Obese')\n",
    "else:\n",
    "    print('Enter Valid Inputs')"
   ]
  },
  {
   "cell_type": "code",
   "execution_count": null,
   "id": "590b6274",
   "metadata": {},
   "outputs": [],
   "source": []
  }
 ],
 "metadata": {
  "kernelspec": {
   "display_name": "Python 3 (ipykernel)",
   "language": "python",
   "name": "python3"
  },
  "language_info": {
   "codemirror_mode": {
    "name": "ipython",
    "version": 3
   },
   "file_extension": ".py",
   "mimetype": "text/x-python",
   "name": "python",
   "nbconvert_exporter": "python",
   "pygments_lexer": "ipython3",
   "version": "3.11.4"
  }
 },
 "nbformat": 4,
 "nbformat_minor": 5
}
